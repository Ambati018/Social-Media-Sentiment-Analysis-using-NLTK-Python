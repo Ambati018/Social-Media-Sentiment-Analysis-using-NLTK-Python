{
 "cells": [
  {
   "cell_type": "markdown",
   "id": "1a33051f",
   "metadata": {},
   "source": [
    "# Social Media Sentiment Analysis using NLTK And Machine Learning."
   ]
  },
  {
   "cell_type": "markdown",
   "id": "3d835178",
   "metadata": {},
   "source": [
    "# 1. Data Collection"
   ]
  },
  {
   "cell_type": "code",
   "execution_count": 18,
   "id": "a403a8ed",
   "metadata": {},
   "outputs": [],
   "source": [
    "\n",
    "import pandas as pd\n",
    "\n",
    "# collecting data from csv file\n",
    "path = \"C:\\\\Users\\\\Sai Kiran\\\\OneDrive\\\\Documents\\\\SaiKiran_Studies\\\\tweets.india.csv\"\n",
    "data = pd.read_csv(path)\n",
    "# Dataset from Kaggle"
   ]
  },
  {
   "cell_type": "code",
   "execution_count": 19,
   "id": "ae6c8854",
   "metadata": {},
   "outputs": [
    {
     "data": {
      "text/plain": [
       "(9118, 13)"
      ]
     },
     "execution_count": 19,
     "metadata": {},
     "output_type": "execute_result"
    }
   ],
   "source": [
    "data.shape"
   ]
  },
  {
   "cell_type": "code",
   "execution_count": 20,
   "id": "23e087f5",
   "metadata": {},
   "outputs": [
    {
     "data": {
      "text/html": [
       "<div>\n",
       "<style scoped>\n",
       "    .dataframe tbody tr th:only-of-type {\n",
       "        vertical-align: middle;\n",
       "    }\n",
       "\n",
       "    .dataframe tbody tr th {\n",
       "        vertical-align: top;\n",
       "    }\n",
       "\n",
       "    .dataframe thead th {\n",
       "        text-align: right;\n",
       "    }\n",
       "</style>\n",
       "<table border=\"1\" class=\"dataframe\">\n",
       "  <thead>\n",
       "    <tr style=\"text-align: right;\">\n",
       "      <th></th>\n",
       "      <th>date</th>\n",
       "      <th>tweets</th>\n",
       "      <th>language</th>\n",
       "      <th>hashtags</th>\n",
       "      <th>username</th>\n",
       "      <th>name</th>\n",
       "      <th>retweet</th>\n",
       "      <th>nlikes</th>\n",
       "      <th>nreplies</th>\n",
       "      <th>nretweets</th>\n",
       "      <th>search</th>\n",
       "      <th>predicted_data</th>\n",
       "      <th>sentiment_numeric</th>\n",
       "    </tr>\n",
       "  </thead>\n",
       "  <tbody>\n",
       "    <tr>\n",
       "      <th>0</th>\n",
       "      <td>15-07-2022 15:35</td>\n",
       "      <td>We may have many problems in #India but we als...</td>\n",
       "      <td>en</td>\n",
       "      <td>['india', 'usa']</td>\n",
       "      <td>tanmay171</td>\n",
       "      <td>†@₦𝕄@¥ ฿ƗŞŴΔŞ 🇮🇳</td>\n",
       "      <td>False</td>\n",
       "      <td>0.0</td>\n",
       "      <td>0.0</td>\n",
       "      <td>0.0</td>\n",
       "      <td>#India</td>\n",
       "      <td>Positive</td>\n",
       "      <td>1</td>\n",
       "    </tr>\n",
       "    <tr>\n",
       "      <th>1</th>\n",
       "      <td>15-07-2022 15:35</td>\n",
       "      <td>Let’s acknowledge and identify exhaustion, hel...</td>\n",
       "      <td>en</td>\n",
       "      <td>['mttalk', 'india']</td>\n",
       "      <td>DrSupriya_MT</td>\n",
       "      <td>Dr.Supriya</td>\n",
       "      <td>False</td>\n",
       "      <td>0.0</td>\n",
       "      <td>0.0</td>\n",
       "      <td>0.0</td>\n",
       "      <td>#India</td>\n",
       "      <td>Negative</td>\n",
       "      <td>2</td>\n",
       "    </tr>\n",
       "    <tr>\n",
       "      <th>2</th>\n",
       "      <td>15-07-2022 15:35</td>\n",
       "      <td>@Adani_Elec_Mum Yes im still waiting for your ...</td>\n",
       "      <td>en</td>\n",
       "      <td>['india', 'adanigroup', 'adani']</td>\n",
       "      <td>im_the_first_rv</td>\n",
       "      <td>Rohit vishwakarma</td>\n",
       "      <td>False</td>\n",
       "      <td>0.0</td>\n",
       "      <td>0.0</td>\n",
       "      <td>0.0</td>\n",
       "      <td>#India</td>\n",
       "      <td>Neutral</td>\n",
       "      <td>3</td>\n",
       "    </tr>\n",
       "    <tr>\n",
       "      <th>3</th>\n",
       "      <td>15-07-2022 15:35</td>\n",
       "      <td>Opaque Watercolor Supervision watercolor paint...</td>\n",
       "      <td>und</td>\n",
       "      <td>['supervision', 'israelwatercolor', '水彩画', 'wa...</td>\n",
       "      <td>SuperVi54458483</td>\n",
       "      <td>Super Vision</td>\n",
       "      <td>False</td>\n",
       "      <td>0.0</td>\n",
       "      <td>0.0</td>\n",
       "      <td>0.0</td>\n",
       "      <td>#India</td>\n",
       "      <td>Neutral</td>\n",
       "      <td>3</td>\n",
       "    </tr>\n",
       "    <tr>\n",
       "      <th>4</th>\n",
       "      <td>15-07-2022 15:35</td>\n",
       "      <td>⚡بھارتی فوجی نے اپنے ہی دو ساتھیوں کو مار کر خ...</td>\n",
       "      <td>ur</td>\n",
       "      <td>['india']</td>\n",
       "      <td>ikramrana55</td>\n",
       "      <td>Ikram Aesthetic ✨🥀</td>\n",
       "      <td>False</td>\n",
       "      <td>0.0</td>\n",
       "      <td>0.0</td>\n",
       "      <td>0.0</td>\n",
       "      <td>#India</td>\n",
       "      <td>Neutral</td>\n",
       "      <td>3</td>\n",
       "    </tr>\n",
       "  </tbody>\n",
       "</table>\n",
       "</div>"
      ],
      "text/plain": [
       "               date                                             tweets  \\\n",
       "0  15-07-2022 15:35  We may have many problems in #India but we als...   \n",
       "1  15-07-2022 15:35  Let’s acknowledge and identify exhaustion, hel...   \n",
       "2  15-07-2022 15:35  @Adani_Elec_Mum Yes im still waiting for your ...   \n",
       "3  15-07-2022 15:35  Opaque Watercolor Supervision watercolor paint...   \n",
       "4  15-07-2022 15:35  ⚡بھارتی فوجی نے اپنے ہی دو ساتھیوں کو مار کر خ...   \n",
       "\n",
       "  language                                           hashtags  \\\n",
       "0       en                                   ['india', 'usa']   \n",
       "1       en                                ['mttalk', 'india']   \n",
       "2       en                   ['india', 'adanigroup', 'adani']   \n",
       "3      und  ['supervision', 'israelwatercolor', '水彩画', 'wa...   \n",
       "4       ur                                          ['india']   \n",
       "\n",
       "          username                 name retweet  nlikes  nreplies  nretweets  \\\n",
       "0        tanmay171     †@₦𝕄@¥ ฿ƗŞŴΔŞ 🇮🇳   False     0.0       0.0        0.0   \n",
       "1     DrSupriya_MT           Dr.Supriya   False     0.0       0.0        0.0   \n",
       "2  im_the_first_rv    Rohit vishwakarma   False     0.0       0.0        0.0   \n",
       "3  SuperVi54458483         Super Vision   False     0.0       0.0        0.0   \n",
       "4      ikramrana55  Ikram Aesthetic ✨🥀   False     0.0       0.0        0.0   \n",
       "\n",
       "   search predicted_data  sentiment_numeric  \n",
       "0  #India       Positive                  1  \n",
       "1  #India       Negative                  2  \n",
       "2  #India        Neutral                  3  \n",
       "3  #India        Neutral                  3  \n",
       "4  #India        Neutral                  3  "
      ]
     },
     "execution_count": 20,
     "metadata": {},
     "output_type": "execute_result"
    }
   ],
   "source": [
    "data.head()"
   ]
  },
  {
   "cell_type": "code",
   "execution_count": 21,
   "id": "61d2b278",
   "metadata": {},
   "outputs": [
    {
     "name": "stdout",
     "output_type": "stream",
     "text": [
      "<class 'pandas.core.frame.DataFrame'>\n",
      "RangeIndex: 9118 entries, 0 to 9117\n",
      "Data columns (total 13 columns):\n",
      " #   Column             Non-Null Count  Dtype  \n",
      "---  ------             --------------  -----  \n",
      " 0   date               9117 non-null   object \n",
      " 1   tweets             9117 non-null   object \n",
      " 2   language           9116 non-null   object \n",
      " 3   hashtags           9116 non-null   object \n",
      " 4   username           9116 non-null   object \n",
      " 5   name               9116 non-null   object \n",
      " 6   retweet            9115 non-null   object \n",
      " 7   nlikes             9115 non-null   float64\n",
      " 8   nreplies           9115 non-null   float64\n",
      " 9   nretweets          9115 non-null   float64\n",
      " 10  search             9116 non-null   object \n",
      " 11  predicted_data     9118 non-null   object \n",
      " 12  sentiment_numeric  9118 non-null   int64  \n",
      "dtypes: float64(3), int64(1), object(9)\n",
      "memory usage: 926.2+ KB\n"
     ]
    }
   ],
   "source": [
    "data.info()"
   ]
  },
  {
   "cell_type": "markdown",
   "id": "f83393ff",
   "metadata": {},
   "source": [
    "# 2. Data Preprocessing"
   ]
  },
  {
   "cell_type": "code",
   "execution_count": 22,
   "id": "d50a55c7",
   "metadata": {},
   "outputs": [
    {
     "name": "stderr",
     "output_type": "stream",
     "text": [
      "[nltk_data] Downloading package punkt to C:\\Users\\Sai\n",
      "[nltk_data]     Kiran\\AppData\\Roaming\\nltk_data...\n",
      "[nltk_data]   Package punkt is already up-to-date!\n",
      "[nltk_data] Downloading package stopwords to C:\\Users\\Sai\n",
      "[nltk_data]     Kiran\\AppData\\Roaming\\nltk_data...\n",
      "[nltk_data]   Package stopwords is already up-to-date!\n",
      "[nltk_data] Downloading package wordnet to C:\\Users\\Sai\n",
      "[nltk_data]     Kiran\\AppData\\Roaming\\nltk_data...\n",
      "[nltk_data]   Package wordnet is already up-to-date!\n"
     ]
    }
   ],
   "source": [
    "import nltk\n",
    "from nltk.corpus import stopwords\n",
    "from nltk.tokenize import word_tokenize\n",
    "from nltk.stem import WordNetLemmatizer\n",
    "\n",
    "#Download NLTK resource\n",
    "nltk.download('punkt')\n",
    "nltk.download('stopwords')\n",
    "nltk.download('wordnet')\n",
    "\n",
    "# Initialize NLTK lemmatizer and stopwords\n",
    "lemmatizer = WordNetLemmatizer()\n",
    "stop_words = set(stopwords.words('english'))\n",
    "\n",
    "# Preprocessing function using NLTK\n",
    "def preprocess_nltk(text):\n",
    "    if isinstance(text,str):\n",
    "        words = word_tokenize(text)\n",
    "        words = [lemmatizer.lemmatize(word) for word in words if word.lower() not in stop_words]\n",
    "        return ' '.join(words)\n",
    "    \n",
    "    else:\n",
    "        return ''\n",
    "\n",
    "\n",
    "data['preprocessed_text'] = data['tweets'].apply(preprocess_nltk)\n"
   ]
  },
  {
   "cell_type": "markdown",
   "id": "f458d028",
   "metadata": {},
   "source": [
    "# 3. Training a Machine Learning Model"
   ]
  },
  {
   "cell_type": "code",
   "execution_count": 23,
   "id": "8285dbb6",
   "metadata": {},
   "outputs": [],
   "source": [
    "from sklearn.feature_extraction.text import TfidfVectorizer\n",
    "from sklearn.model_selection import train_test_split\n",
    "from sklearn.svm import LinearSVC\n",
    "from sklearn.metrics import classification_report\n",
    "\n",
    "# spliting the dataset into training and testing sets\n",
    "\n",
    "train_data, test_data, train_labels, test_labels = train_test_split(\n",
    "    data['preprocessed_text'],data['predicted_data'],test_size = 0.2, random_state = 42)\n",
    "\n",
    "# create a TF-IDF vectorizer\n",
    "tfidf_vectorizer = TfidfVectorizer(max_features=10000)\n",
    "\n",
    "# Transform text data into TF-IDF vectors\n",
    "train_tfidf = tfidf_vectorizer.fit_transform(train_data)\n",
    "test_tfidf = tfidf_vectorizer.transform(test_data)\n",
    "\n",
    "# Initialize and train the LinearSVC classifier\n",
    "classifier = LinearSVC(dual=False)\n",
    "classifier.fit(train_tfidf,train_labels)\n",
    "\n",
    "# predict sentiment on the test set\n",
    "predicted_labels = classifier.predict(test_tfidf)\n",
    "\n",
    "\n",
    "\n"
   ]
  },
  {
   "cell_type": "markdown",
   "id": "a28561c4",
   "metadata": {},
   "source": [
    "# 4. Classification Report"
   ]
  },
  {
   "cell_type": "code",
   "execution_count": 24,
   "id": "6351c6e3",
   "metadata": {},
   "outputs": [
    {
     "name": "stdout",
     "output_type": "stream",
     "text": [
      "              precision    recall  f1-score   support\n",
      "\n",
      "    Negative       0.72      0.45      0.55       188\n",
      "     Neutral       0.85      0.91      0.88       989\n",
      "    Positive       0.81      0.82      0.82       647\n",
      "\n",
      "    accuracy                           0.83      1824\n",
      "   macro avg       0.80      0.73      0.75      1824\n",
      "weighted avg       0.83      0.83      0.82      1824\n",
      "\n"
     ]
    }
   ],
   "source": [
    "print(classification_report(test_labels, predicted_labels)) "
   ]
  },
  {
   "cell_type": "markdown",
   "id": "1fdc2656",
   "metadata": {},
   "source": [
    "# 5. Visualization"
   ]
  },
  {
   "cell_type": "code",
   "execution_count": 25,
   "id": "c876e129",
   "metadata": {},
   "outputs": [
    {
     "data": {
      "image/png": "[encoded data removed]",
      "text/plain": [
       "<Figure size 700x500 with 1 Axes>"
      ]
     },
     "metadata": {},
     "output_type": "display_data"
    }
   ],
   "source": [
    "import matplotlib.pyplot as plt\n",
    "import seaborn as sns\n",
    "\n",
    "# Creating a bar chart to visualize the distribution of sentiments.\n",
    "\n",
    "sns.set(style=\"whitegrid\")\n",
    "plt.figure(figsize=(7,5))\n",
    "\n",
    "sns.countplot(data=data, x='predicted_data', palette=\"Set2\")\n",
    "plt.title('Sentiment Distribution')\n",
    "plt.xlabel('Sentiment')\n",
    "plt.ylabel('Count')\n",
    "\n",
    "plt.show()"
   ]
  },
  {
   "cell_type": "code",
   "execution_count": null,
   "id": "3b9f5cce",
   "metadata": {},
   "outputs": [],
   "source": []
  }
 ],
 "metadata": {
  "kernelspec": {
   "display_name": "Python 3",
   "language": "python",
   "name": "python3"
  },
  "language_info": {
   "codemirror_mode": {
    "name": "ipython",
    "version": 3
   },
   "file_extension": ".py",
   "mimetype": "text/x-python",
   "name": "python",
   "nbconvert_exporter": "python",
   "pygments_lexer": "ipython3",
   "version": "3.11.4"
  }
 },
 "nbformat": 4,
 "nbformat_minor": 5
}
