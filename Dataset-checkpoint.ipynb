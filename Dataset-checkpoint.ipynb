{
 "cells": [
  {
   "cell_type": "markdown",
   "id": "4667cb5a",
   "metadata": {},
   "source": [
    "import pandas as pd\n",
    "path = \"C:\\\\Users\\\\Sai Kiran\\\\OneDrive\\\\Documents\\\\SaiKiran_Studies\\\\tweets.india.csv\"\n",
    "twitter_data = pd.read_csv(path)"
   ]
  },
  {
   "cell_type": "markdown",
   "id": "8d041d44",
   "metadata": {},
   "source": [
    "twitter_data.info()"
   ]
  },
  {
   "cell_type": "code",
   "execution_count": null,
   "id": "3b34921f",
   "metadata": {},
   "outputs": [],
   "source": []
  },
  {
   "cell_type": "code",
   "execution_count": null,
   "id": "b60ad7b6",
   "metadata": {},
   "outputs": [],
   "source": []
  }
 ],
 "metadata": {
  "kernelspec": {
   "display_name": "Python 3",
   "language": "python",
   "name": "python3"
  },
  "language_info": {
   "codemirror_mode": {
    "name": "ipython",
    "version": 3
   },
   "file_extension": ".py",
   "mimetype": "text/x-python",
   "name": "python",
   "nbconvert_exporter": "python",
   "pygments_lexer": "ipython3",
   "version": "3.11.4"
  }
 },
 "nbformat": 4,
 "nbformat_minor": 5
}
